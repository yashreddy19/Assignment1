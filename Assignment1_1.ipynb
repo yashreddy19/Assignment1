{
 "cells": [
  {
   "cell_type": "code",
   "execution_count": 3,
   "metadata": {},
   "outputs": [
    {
     "name": "stdout",
     "output_type": "stream",
     "text": [
      "sum is: 30\n",
      "difference is: 10\n",
      "mul is 200\n",
      "div is 2.0\n",
      "mod is 0\n",
      "exponential is 10240000000000\n",
      "floor division is 2\n"
     ]
    }
   ],
   "source": [
    "x=20\n",
    "y=10\n",
    "sum=x+y\n",
    "diff=x-y\n",
    "mul=x*y\n",
    "div=x/y\n",
    "mod=x%y\n",
    "exp=x**y\n",
    "flo=x//y\n",
    "print(\"sum is:\",sum)\n",
    "print(\"difference is:\",diff)\n",
    "print(\"mul is\",mul)\n",
    "print(\"div is\",div)\n",
    "print(\"mod is\",mod)\n",
    "print(\"exponential is\",exp)\n",
    "print(\"floor division is\",flo)\n"
   ]
  }
 ],
 "metadata": {
  "kernelspec": {
   "display_name": "Python 3",
   "language": "python",
   "name": "python3"
  },
  "language_info": {
   "codemirror_mode": {
    "name": "ipython",
    "version": 3
   },
   "file_extension": ".py",
   "mimetype": "text/x-python",
   "name": "python",
   "nbconvert_exporter": "python",
   "pygments_lexer": "ipython3",
   "version": "3.7.6"
  }
 },
 "nbformat": 4,
 "nbformat_minor": 4
}
