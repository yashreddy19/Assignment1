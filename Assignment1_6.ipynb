{
 "cells": [
  {
   "cell_type": "code",
   "execution_count": 2,
   "metadata": {},
   "outputs": [
    {
     "name": "stdout",
     "output_type": "stream",
     "text": [
      "Please Enter the Width of a Rectangle: 3\n",
      "Please Enter the Height of a Rectangle: 2\n",
      "\n",
      " Area of a Rectangle is: 6.00\n"
     ]
    }
   ],
   "source": [
    "width = float(input('Please Enter the Width of a Rectangle: '))\n",
    "height = float(input('Please Enter the Height of a Rectangle: '))\n",
    "Area = width * height\n",
    "print(\"\\n Area of a Rectangle is: %.2f\" %Area)"
   ]
  }
 ],
 "metadata": {
  "kernelspec": {
   "display_name": "Python 3",
   "language": "python",
   "name": "python3"
  },
  "language_info": {
   "codemirror_mode": {
    "name": "ipython",
    "version": 3
   },
   "file_extension": ".py",
   "mimetype": "text/x-python",
   "name": "python",
   "nbconvert_exporter": "python",
   "pygments_lexer": "ipython3",
   "version": "3.7.6"
  }
 },
 "nbformat": 4,
 "nbformat_minor": 4
}
