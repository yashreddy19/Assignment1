{
 "cells": [
  {
   "cell_type": "code",
   "execution_count": 1,
   "metadata": {},
   "outputs": [
    {
     "name": "stdout",
     "output_type": "stream",
     "text": [
      "Enter 'x' for exit.\n",
      "Enter first number: 3\n",
      "Enter second number: 2\n",
      "\n",
      "Started swapping the given two numbers...\n",
      "Given two numbers are successfully swapped!\n",
      "\n",
      "Value of First and Second number after swapping:\n",
      "First Number = 2 \n",
      "Second Number= 3\n"
     ]
    }
   ],
   "source": [
    "print(\"Enter 'x' for exit.\");\n",
    "num1 = input(\"Enter first number: \");\n",
    "if num1 == 'x':\n",
    "    exit();\n",
    "else:\n",
    "    num2 = input(\"Enter second number: \");\n",
    "    print(\"\\nStarted swapping the given two numbers...\");\n",
    "    number1 = int(num1);\n",
    "    number2 = int(num2);\n",
    "    swap = number1;\n",
    "    number1 = number2;\n",
    "    number2 = swap;\n",
    "    print(\"Given two numbers are successfully swapped!\\n\");\n",
    "    print(\"Value of First and Second number after swapping:\");\n",
    "    print(\"First Number =\",number1,\"\\nSecond Number=\",number2);"
   ]
  }
 ],
 "metadata": {
  "kernelspec": {
   "display_name": "Python 3",
   "language": "python",
   "name": "python3"
  },
  "language_info": {
   "codemirror_mode": {
    "name": "ipython",
    "version": 3
   },
   "file_extension": ".py",
   "mimetype": "text/x-python",
   "name": "python",
   "nbconvert_exporter": "python",
   "pygments_lexer": "ipython3",
   "version": "3.7.6"
  }
 },
 "nbformat": 4,
 "nbformat_minor": 4
}
